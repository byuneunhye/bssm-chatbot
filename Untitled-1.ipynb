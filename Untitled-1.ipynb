{
 "cells": [
  {
   "cell_type": "code",
   "execution_count": 1,
   "metadata": {},
   "outputs": [
    {
     "name": "stdout",
     "output_type": "stream",
     "text": [
      "Defaulting to user installation because normal site-packages is not writeable\n",
      "Requirement already satisfied: pandas in c:\\users\\user\\appdata\\roaming\\python\\python310\\site-packages (1.5.2)\n",
      "Requirement already satisfied: python-dateutil>=2.8.1 in c:\\users\\user\\appdata\\roaming\\python\\python310\\site-packages (from pandas) (2.8.2)\n",
      "Requirement already satisfied: numpy>=1.21.0 in c:\\users\\user\\appdata\\roaming\\python\\python310\\site-packages (from pandas) (1.24.0)\n",
      "Requirement already satisfied: pytz>=2020.1 in c:\\users\\user\\appdata\\roaming\\python\\python310\\site-packages (from pandas) (2022.7)\n",
      "Requirement already satisfied: six>=1.5 in c:\\users\\user\\appdata\\roaming\\python\\python310\\site-packages (from python-dateutil>=2.8.1->pandas) (1.16.0)\n",
      "Defaulting to user installation because normal site-packages is not writeable\n",
      "Requirement already satisfied: sentence_transformers in c:\\users\\user\\appdata\\roaming\\python\\python310\\site-packages (2.2.2)\n",
      "Requirement already satisfied: transformers<5.0.0,>=4.6.0 in c:\\users\\user\\appdata\\roaming\\python\\python310\\site-packages (from sentence_transformers) (4.25.1)\n",
      "Requirement already satisfied: tqdm in c:\\users\\user\\appdata\\roaming\\python\\python310\\site-packages (from sentence_transformers) (4.64.1)\n",
      "Requirement already satisfied: torch>=1.6.0 in c:\\users\\user\\appdata\\roaming\\python\\python310\\site-packages (from sentence_transformers) (1.13.1)\n",
      "Requirement already satisfied: torchvision in c:\\users\\user\\appdata\\roaming\\python\\python310\\site-packages (from sentence_transformers) (0.14.1)\n",
      "Requirement already satisfied: numpy in c:\\users\\user\\appdata\\roaming\\python\\python310\\site-packages (from sentence_transformers) (1.24.0)\n",
      "Requirement already satisfied: scikit-learn in c:\\users\\user\\appdata\\roaming\\python\\python310\\site-packages (from sentence_transformers) (1.2.0)\n",
      "Requirement already satisfied: scipy in c:\\users\\user\\appdata\\roaming\\python\\python310\\site-packages (from sentence_transformers) (1.9.3)\n",
      "Requirement already satisfied: nltk in c:\\users\\user\\appdata\\roaming\\python\\python310\\site-packages (from sentence_transformers) (3.8)\n",
      "Requirement already satisfied: sentencepiece in c:\\users\\user\\appdata\\roaming\\python\\python310\\site-packages (from sentence_transformers) (0.1.97)\n",
      "Requirement already satisfied: huggingface-hub>=0.4.0 in c:\\users\\user\\appdata\\roaming\\python\\python310\\site-packages (from sentence_transformers) (0.11.1)\n",
      "Requirement already satisfied: requests in c:\\users\\user\\appdata\\roaming\\python\\python310\\site-packages (from huggingface-hub>=0.4.0->sentence_transformers) (2.28.1)\n",
      "Requirement already satisfied: typing-extensions>=3.7.4.3 in c:\\users\\user\\appdata\\roaming\\python\\python310\\site-packages (from huggingface-hub>=0.4.0->sentence_transformers) (4.4.0)\n",
      "Requirement already satisfied: packaging>=20.9 in c:\\users\\user\\appdata\\roaming\\python\\python310\\site-packages (from huggingface-hub>=0.4.0->sentence_transformers) (22.0)\n",
      "Requirement already satisfied: filelock in c:\\users\\user\\appdata\\roaming\\python\\python310\\site-packages (from huggingface-hub>=0.4.0->sentence_transformers) (3.8.2)\n",
      "Requirement already satisfied: pyyaml>=5.1 in c:\\users\\user\\appdata\\roaming\\python\\python310\\site-packages (from huggingface-hub>=0.4.0->sentence_transformers) (6.0)\n",
      "Requirement already satisfied: regex!=2019.12.17 in c:\\users\\user\\appdata\\roaming\\python\\python310\\site-packages (from transformers<5.0.0,>=4.6.0->sentence_transformers) (2022.10.31)\n",
      "Requirement already satisfied: tokenizers!=0.11.3,<0.14,>=0.11.1 in c:\\users\\user\\appdata\\roaming\\python\\python310\\site-packages (from transformers<5.0.0,>=4.6.0->sentence_transformers) (0.13.2)\n",
      "Requirement already satisfied: colorama in c:\\users\\user\\appdata\\roaming\\python\\python310\\site-packages (from tqdm->sentence_transformers) (0.4.6)\n",
      "Requirement already satisfied: joblib in c:\\users\\user\\appdata\\roaming\\python\\python310\\site-packages (from nltk->sentence_transformers) (1.2.0)\n",
      "Requirement already satisfied: click in c:\\users\\user\\appdata\\roaming\\python\\python310\\site-packages (from nltk->sentence_transformers) (8.1.3)\n",
      "Requirement already satisfied: threadpoolctl>=2.0.0 in c:\\users\\user\\appdata\\roaming\\python\\python310\\site-packages (from scikit-learn->sentence_transformers) (3.1.0)\n",
      "Requirement already satisfied: pillow!=8.3.*,>=5.3.0 in c:\\users\\user\\appdata\\roaming\\python\\python310\\site-packages (from torchvision->sentence_transformers) (9.3.0)\n",
      "Requirement already satisfied: charset-normalizer<3,>=2 in c:\\users\\user\\appdata\\roaming\\python\\python310\\site-packages (from requests->huggingface-hub>=0.4.0->sentence_transformers) (2.1.1)\n",
      "Requirement already satisfied: idna<4,>=2.5 in c:\\users\\user\\appdata\\roaming\\python\\python310\\site-packages (from requests->huggingface-hub>=0.4.0->sentence_transformers) (3.4)\n",
      "Requirement already satisfied: urllib3<1.27,>=1.21.1 in c:\\users\\user\\appdata\\roaming\\python\\python310\\site-packages (from requests->huggingface-hub>=0.4.0->sentence_transformers) (1.26.13)\n",
      "Requirement already satisfied: certifi>=2017.4.17 in c:\\users\\user\\appdata\\roaming\\python\\python310\\site-packages (from requests->huggingface-hub>=0.4.0->sentence_transformers) (2022.12.7)\n",
      "Defaulting to user installation because normal site-packages is not writeable\n",
      "Requirement already satisfied: sklearn in c:\\users\\user\\appdata\\roaming\\python\\python310\\site-packages (0.0.post1)\n"
     ]
    }
   ],
   "source": [
    "!pip3 install pandas\n",
    "!pip3 install sentence_transformers\n",
    "!pip3 install sklearn"
   ]
  },
  {
   "cell_type": "code",
   "execution_count": 2,
   "metadata": {},
   "outputs": [],
   "source": [
    "import pandas as pd\n",
    "from sentence_transformers import SentenceTransformer\n",
    "from sklearn.metrics.pairwise import cosine_similarity"
   ]
  },
  {
   "cell_type": "code",
   "execution_count": 3,
   "metadata": {},
   "outputs": [
    {
     "name": "stdout",
     "output_type": "stream",
     "text": [
      "[[ 0.10478407 -0.19161403  0.03850418 ...  0.60394835  0.50577533\n",
      "  -0.736189  ]\n",
      " [ 0.10454009  0.19116943 -0.9161043  ... -0.16573702  0.20779425\n",
      "  -0.34834814]]\n"
     ]
    }
   ],
   "source": [
    "model = SentenceTransformer('jhgan/ko-sroberta-multitask')\n",
    "\n",
    "sentences = [\"학교가 어디인가요?\", \"저는 부산 소마고에 다니고 있습니다.\"]\n",
    "embeddings = model.encode(sentences)\n",
    "\n",
    "print(embeddings)"
   ]
  },
  {
   "cell_type": "code",
   "execution_count": 4,
   "metadata": {},
   "outputs": [
    {
     "data": {
      "text/html": [
       "<div>\n",
       "<style scoped>\n",
       "    .dataframe tbody tr th:only-of-type {\n",
       "        vertical-align: middle;\n",
       "    }\n",
       "\n",
       "    .dataframe tbody tr th {\n",
       "        vertical-align: top;\n",
       "    }\n",
       "\n",
       "    .dataframe thead th {\n",
       "        text-align: right;\n",
       "    }\n",
       "</style>\n",
       "<table border=\"1\" class=\"dataframe\">\n",
       "  <thead>\n",
       "    <tr style=\"text-align: right;\">\n",
       "      <th></th>\n",
       "      <th>구분</th>\n",
       "      <th>유저</th>\n",
       "      <th>챗봇</th>\n",
       "      <th>embedding</th>\n",
       "    </tr>\n",
       "  </thead>\n",
       "  <tbody>\n",
       "    <tr>\n",
       "      <th>0</th>\n",
       "      <td>입학홍보</td>\n",
       "      <td>소마고는 어떤 곳인가요?</td>\n",
       "      <td>저희 부산소프트웨어마이스터고등학교를 소개합니다. 저희학교는 … 그 외 궁금하신 질문...</td>\n",
       "      <td>[-0.1435645, -0.15075053, 0.39240214, -0.17153...</td>\n",
       "    </tr>\n",
       "    <tr>\n",
       "      <th>1</th>\n",
       "      <td>질의응답</td>\n",
       "      <td>학교에 체육시설이 있나요?</td>\n",
       "      <td>네 저희학교에는 별도의 체육시설이 마련되어 있습니다. 운영시간은 9:00 - 20:...</td>\n",
       "      <td>[-0.052069698, -0.65187144, -0.31265813, -0.51...</td>\n",
       "    </tr>\n",
       "    <tr>\n",
       "      <th>2</th>\n",
       "      <td>질의응답</td>\n",
       "      <td>개인적 사유로 인한 전학이 가능한가요?</td>\n",
       "      <td>전출은 가능하나 전입학은 불가능합니다.</td>\n",
       "      <td>[-0.810933, -0.3049319, -0.06119474, -0.792246...</td>\n",
       "    </tr>\n",
       "    <tr>\n",
       "      <th>3</th>\n",
       "      <td>질의응답</td>\n",
       "      <td>학기중 학원을 다닐 수 있나요?</td>\n",
       "      <td>마이스터고 일과운영은 정규시간은 8시 30분에 시작하여 16시10분에 종료됩니다.\\...</td>\n",
       "      <td>[-0.56766814, -0.18260951, 0.061592657, -0.527...</td>\n",
       "    </tr>\n",
       "    <tr>\n",
       "      <th>4</th>\n",
       "      <td>질의응답</td>\n",
       "      <td>코딩테스트는 어떤 방식으로 하나요?</td>\n",
       "      <td>문제는 시험지로 주어질 것이고 사용할 수 있는 프로그래밍 언어로는 C언어를 사용합니...</td>\n",
       "      <td>[-0.8273766, -0.18124776, 0.2560648, -0.831137...</td>\n",
       "    </tr>\n",
       "  </tbody>\n",
       "</table>\n",
       "</div>"
      ],
      "text/plain": [
       "      구분                     유저  \\\n",
       "0  입학홍보           소마고는 어떤 곳인가요?   \n",
       "1   질의응답         학교에 체육시설이 있나요?   \n",
       "2  질의응답   개인적 사유로 인한 전학이 가능한가요?   \n",
       "3   질의응답      학기중 학원을 다닐 수 있나요?   \n",
       "4   질의응답    코딩테스트는 어떤 방식으로 하나요?   \n",
       "\n",
       "                                                  챗봇  \\\n",
       "0  저희 부산소프트웨어마이스터고등학교를 소개합니다. 저희학교는 … 그 외 궁금하신 질문...   \n",
       "1  네 저희학교에는 별도의 체육시설이 마련되어 있습니다. 운영시간은 9:00 - 20:...   \n",
       "2                              전출은 가능하나 전입학은 불가능합니다.   \n",
       "3  마이스터고 일과운영은 정규시간은 8시 30분에 시작하여 16시10분에 종료됩니다.\\...   \n",
       "4  문제는 시험지로 주어질 것이고 사용할 수 있는 프로그래밍 언어로는 C언어를 사용합니...   \n",
       "\n",
       "                                           embedding  \n",
       "0  [-0.1435645, -0.15075053, 0.39240214, -0.17153...  \n",
       "1  [-0.052069698, -0.65187144, -0.31265813, -0.51...  \n",
       "2  [-0.810933, -0.3049319, -0.06119474, -0.792246...  \n",
       "3  [-0.56766814, -0.18260951, 0.061592657, -0.527...  \n",
       "4  [-0.8273766, -0.18124776, 0.2560648, -0.831137...  "
      ]
     },
     "execution_count": 4,
     "metadata": {},
     "output_type": "execute_result"
    }
   ],
   "source": [
    "df = pd.read_csv('입학전형 챗봇.csv')\n",
    "\n",
    "df.head()"
   ]
  },
  {
   "cell_type": "code",
   "execution_count": 5,
   "metadata": {},
   "outputs": [],
   "source": [
    "df.to_csv('bssm.csv', index=False)"
   ]
  },
  {
   "cell_type": "code",
   "execution_count": 6,
   "metadata": {},
   "outputs": [],
   "source": [
    "text = '유학 가능한가요?'\n",
    "embedding = model.encode(text)"
   ]
  },
  {
   "cell_type": "code",
   "execution_count": 7,
   "metadata": {},
   "outputs": [
    {
     "data": {
      "text/html": [
       "<div>\n",
       "<style scoped>\n",
       "    .dataframe tbody tr th:only-of-type {\n",
       "        vertical-align: middle;\n",
       "    }\n",
       "\n",
       "    .dataframe tbody tr th {\n",
       "        vertical-align: top;\n",
       "    }\n",
       "\n",
       "    .dataframe thead th {\n",
       "        text-align: right;\n",
       "    }\n",
       "</style>\n",
       "<table border=\"1\" class=\"dataframe\">\n",
       "  <thead>\n",
       "    <tr style=\"text-align: right;\">\n",
       "      <th></th>\n",
       "      <th>구분</th>\n",
       "      <th>유저</th>\n",
       "      <th>챗봇</th>\n",
       "      <th>embedding</th>\n",
       "    </tr>\n",
       "  </thead>\n",
       "  <tbody>\n",
       "    <tr>\n",
       "      <th>0</th>\n",
       "      <td>입학홍보</td>\n",
       "      <td>소마고는 어떤 곳인가요?</td>\n",
       "      <td>저희 부산소프트웨어마이스터고등학교를 소개합니다. 저희학교는 … 그 외 궁금하신 질문...</td>\n",
       "      <td>[-0.1435645, -0.15075053, 0.39240214, -0.17153...</td>\n",
       "    </tr>\n",
       "    <tr>\n",
       "      <th>1</th>\n",
       "      <td>질의응답</td>\n",
       "      <td>학교에 체육시설이 있나요?</td>\n",
       "      <td>네 저희학교에는 별도의 체육시설이 마련되어 있습니다. 운영시간은 9:00 - 20:...</td>\n",
       "      <td>[-0.052069698, -0.65187144, -0.31265813, -0.51...</td>\n",
       "    </tr>\n",
       "    <tr>\n",
       "      <th>2</th>\n",
       "      <td>질의응답</td>\n",
       "      <td>개인적 사유로 인한 전학이 가능한가요?</td>\n",
       "      <td>전출은 가능하나 전입학은 불가능합니다.</td>\n",
       "      <td>[-0.810933, -0.3049319, -0.06119474, -0.792246...</td>\n",
       "    </tr>\n",
       "    <tr>\n",
       "      <th>3</th>\n",
       "      <td>질의응답</td>\n",
       "      <td>학기중 학원을 다닐 수 있나요?</td>\n",
       "      <td>마이스터고 일과운영은 정규시간은 8시 30분에 시작하여 16시10분에 종료됩니다.\\...</td>\n",
       "      <td>[-0.56766814, -0.18260951, 0.061592657, -0.527...</td>\n",
       "    </tr>\n",
       "    <tr>\n",
       "      <th>4</th>\n",
       "      <td>질의응답</td>\n",
       "      <td>코딩테스트는 어떤 방식으로 하나요?</td>\n",
       "      <td>문제는 시험지로 주어질 것이고 사용할 수 있는 프로그래밍 언어로는 C언어를 사용합니...</td>\n",
       "      <td>[-0.8273766, -0.18124776, 0.2560648, -0.831137...</td>\n",
       "    </tr>\n",
       "  </tbody>\n",
       "</table>\n",
       "</div>"
      ],
      "text/plain": [
       "      구분                     유저  \\\n",
       "0  입학홍보           소마고는 어떤 곳인가요?   \n",
       "1   질의응답         학교에 체육시설이 있나요?   \n",
       "2  질의응답   개인적 사유로 인한 전학이 가능한가요?   \n",
       "3   질의응답      학기중 학원을 다닐 수 있나요?   \n",
       "4   질의응답    코딩테스트는 어떤 방식으로 하나요?   \n",
       "\n",
       "                                                  챗봇  \\\n",
       "0  저희 부산소프트웨어마이스터고등학교를 소개합니다. 저희학교는 … 그 외 궁금하신 질문...   \n",
       "1  네 저희학교에는 별도의 체육시설이 마련되어 있습니다. 운영시간은 9:00 - 20:...   \n",
       "2                              전출은 가능하나 전입학은 불가능합니다.   \n",
       "3  마이스터고 일과운영은 정규시간은 8시 30분에 시작하여 16시10분에 종료됩니다.\\...   \n",
       "4  문제는 시험지로 주어질 것이고 사용할 수 있는 프로그래밍 언어로는 C언어를 사용합니...   \n",
       "\n",
       "                                           embedding  \n",
       "0  [-0.1435645, -0.15075053, 0.39240214, -0.17153...  \n",
       "1  [-0.052069698, -0.65187144, -0.31265813, -0.51...  \n",
       "2  [-0.810933, -0.3049319, -0.06119474, -0.792246...  \n",
       "3  [-0.56766814, -0.18260951, 0.061592657, -0.527...  \n",
       "4  [-0.8273766, -0.18124776, 0.2560648, -0.831137...  "
      ]
     },
     "execution_count": 7,
     "metadata": {},
     "output_type": "execute_result"
    }
   ],
   "source": [
    "df['embedding'] = df['유저'].map(lambda x: list(model.encode(x)))\n",
    "\n",
    "df.to_csv('입학전형 챗봇.csv', index=False)\n",
    "df.head()"
   ]
  },
  {
   "cell_type": "code",
   "execution_count": 8,
   "metadata": {},
   "outputs": [],
   "source": [
    "text = '소마고를 소개해주세요.'\n",
    "\n",
    "embedding = model.encode(text)"
   ]
  },
  {
   "cell_type": "code",
   "execution_count": 9,
   "metadata": {},
   "outputs": [
    {
     "data": {
      "text/html": [
       "<div>\n",
       "<style scoped>\n",
       "    .dataframe tbody tr th:only-of-type {\n",
       "        vertical-align: middle;\n",
       "    }\n",
       "\n",
       "    .dataframe tbody tr th {\n",
       "        vertical-align: top;\n",
       "    }\n",
       "\n",
       "    .dataframe thead th {\n",
       "        text-align: right;\n",
       "    }\n",
       "</style>\n",
       "<table border=\"1\" class=\"dataframe\">\n",
       "  <thead>\n",
       "    <tr style=\"text-align: right;\">\n",
       "      <th></th>\n",
       "      <th>구분</th>\n",
       "      <th>유저</th>\n",
       "      <th>챗봇</th>\n",
       "      <th>embedding</th>\n",
       "      <th>distance</th>\n",
       "    </tr>\n",
       "  </thead>\n",
       "  <tbody>\n",
       "    <tr>\n",
       "      <th>0</th>\n",
       "      <td>입학홍보</td>\n",
       "      <td>소마고는 어떤 곳인가요?</td>\n",
       "      <td>저희 부산소프트웨어마이스터고등학교를 소개합니다. 저희학교는 … 그 외 궁금하신 질문...</td>\n",
       "      <td>[-0.1435645, -0.15075053, 0.39240214, -0.17153...</td>\n",
       "      <td>0.852531</td>\n",
       "    </tr>\n",
       "    <tr>\n",
       "      <th>1</th>\n",
       "      <td>질의응답</td>\n",
       "      <td>학교에 체육시설이 있나요?</td>\n",
       "      <td>네 저희학교에는 별도의 체육시설이 마련되어 있습니다. 운영시간은 9:00 - 20:...</td>\n",
       "      <td>[-0.052069698, -0.65187144, -0.31265813, -0.51...</td>\n",
       "      <td>0.030460</td>\n",
       "    </tr>\n",
       "    <tr>\n",
       "      <th>2</th>\n",
       "      <td>질의응답</td>\n",
       "      <td>개인적 사유로 인한 전학이 가능한가요?</td>\n",
       "      <td>전출은 가능하나 전입학은 불가능합니다.</td>\n",
       "      <td>[-0.810933, -0.3049319, -0.06119474, -0.792246...</td>\n",
       "      <td>0.060568</td>\n",
       "    </tr>\n",
       "    <tr>\n",
       "      <th>3</th>\n",
       "      <td>질의응답</td>\n",
       "      <td>학기중 학원을 다닐 수 있나요?</td>\n",
       "      <td>마이스터고 일과운영은 정규시간은 8시 30분에 시작하여 16시10분에 종료됩니다.\\...</td>\n",
       "      <td>[-0.56766814, -0.18260951, 0.061592657, -0.527...</td>\n",
       "      <td>0.025724</td>\n",
       "    </tr>\n",
       "    <tr>\n",
       "      <th>4</th>\n",
       "      <td>질의응답</td>\n",
       "      <td>코딩테스트는 어떤 방식으로 하나요?</td>\n",
       "      <td>문제는 시험지로 주어질 것이고 사용할 수 있는 프로그래밍 언어로는 C언어를 사용합니...</td>\n",
       "      <td>[-0.8273766, -0.18124776, 0.2560648, -0.831137...</td>\n",
       "      <td>0.054125</td>\n",
       "    </tr>\n",
       "  </tbody>\n",
       "</table>\n",
       "</div>"
      ],
      "text/plain": [
       "      구분                     유저  \\\n",
       "0  입학홍보           소마고는 어떤 곳인가요?   \n",
       "1   질의응답         학교에 체육시설이 있나요?   \n",
       "2  질의응답   개인적 사유로 인한 전학이 가능한가요?   \n",
       "3   질의응답      학기중 학원을 다닐 수 있나요?   \n",
       "4   질의응답    코딩테스트는 어떤 방식으로 하나요?   \n",
       "\n",
       "                                                  챗봇  \\\n",
       "0  저희 부산소프트웨어마이스터고등학교를 소개합니다. 저희학교는 … 그 외 궁금하신 질문...   \n",
       "1  네 저희학교에는 별도의 체육시설이 마련되어 있습니다. 운영시간은 9:00 - 20:...   \n",
       "2                              전출은 가능하나 전입학은 불가능합니다.   \n",
       "3  마이스터고 일과운영은 정규시간은 8시 30분에 시작하여 16시10분에 종료됩니다.\\...   \n",
       "4  문제는 시험지로 주어질 것이고 사용할 수 있는 프로그래밍 언어로는 C언어를 사용합니...   \n",
       "\n",
       "                                           embedding  distance  \n",
       "0  [-0.1435645, -0.15075053, 0.39240214, -0.17153...  0.852531  \n",
       "1  [-0.052069698, -0.65187144, -0.31265813, -0.51...  0.030460  \n",
       "2  [-0.810933, -0.3049319, -0.06119474, -0.792246...  0.060568  \n",
       "3  [-0.56766814, -0.18260951, 0.061592657, -0.527...  0.025724  \n",
       "4  [-0.8273766, -0.18124776, 0.2560648, -0.831137...  0.054125  "
      ]
     },
     "execution_count": 9,
     "metadata": {},
     "output_type": "execute_result"
    }
   ],
   "source": [
    "df['distance'] = df['embedding'].map(lambda x: cosine_similarity([embedding], [x]).squeeze())\n",
    "\n",
    "df.head()"
   ]
  },
  {
   "cell_type": "code",
   "execution_count": 10,
   "metadata": {},
   "outputs": [
    {
     "name": "stdout",
     "output_type": "stream",
     "text": [
      "입학홍보 \n",
      "소마고는 어떤 곳인가요?\n",
      "저희 부산소프트웨어마이스터고등학교를 소개합니다. 저희학교는 … 그 외 궁금하신 질문은 XXX-XXX-XXXX로 문의 주세요\n",
      "0.8525311946868896\n"
     ]
    }
   ],
   "source": [
    "answer = df.loc[df['distance'].idxmax()]\n",
    "\n",
    "print(answer['구분'])\n",
    "print(answer['유저'])\n",
    "print(answer['챗봇'])\n",
    "print(answer['distance'])"
   ]
  },
  {
   "cell_type": "code",
   "execution_count": 11,
   "metadata": {},
   "outputs": [
    {
     "name": "stdout",
     "output_type": "stream",
     "text": [
      "저희 부산소프트웨어마이스터고등학교를 소개합니다. 저희학교는 … 그 외 궁금하신 질문은 XXX-XXX-XXXX로 문의 주세요\n"
     ]
    }
   ],
   "source": [
    "question = '학교에 체육시설이 있나요?'\n",
    "embedding =  model.encode(text)\n",
    "df['distance'] = df['embedding'].map(lambda x: cosine_similarity([embedding], [x]).squeeze())\n",
    "answer = df.loc[df['distance'].idxmax()]\n",
    "\n",
    "print(answer['챗봇'])\n"
   ]
  }
 ],
 "metadata": {
  "interpreter": {
   "hash": "b89b5cfaba6639976dc87ff2fec6d58faec662063367e2c229c520fe71072417"
  },
  "kernelspec": {
   "display_name": "Python 3.10.5 64-bit",
   "language": "python",
   "name": "python3"
  },
  "language_info": {
   "codemirror_mode": {
    "name": "ipython",
    "version": 3
   },
   "file_extension": ".py",
   "mimetype": "text/x-python",
   "name": "python",
   "nbconvert_exporter": "python",
   "pygments_lexer": "ipython3",
   "version": "3.10.5"
  },
  "orig_nbformat": 4
 },
 "nbformat": 4,
 "nbformat_minor": 2
}
